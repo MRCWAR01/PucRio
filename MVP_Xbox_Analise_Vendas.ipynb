
{
 "cells": [
  {
   "cell_type": "markdown",
   "metadata": {},
   "source": [
    "# Análise de Vendas de Jogos para Xbox\n",
    "## Contexto\n",
    "O objetivo deste projeto é realizar uma análise exploratória sobre os jogos lançados para consoles Xbox (como Xbox, Xbox 360 e Xbox One), utilizando um dataset público com informações de vendas globais de jogos.\n",
    "## Objetivo geral\n",
    "Explorar o desempenho de vendas dos jogos Xbox, buscando identificar tendências por ano, gênero e região."
   ]
  },
  {
   "cell_type": "code",
   "execution_count": null,
   "metadata": {},
   "outputs": [],
   "source": [
    "# Importando as bibliotecas necessárias\n",
    "import pandas as pd\n",
    "import matplotlib.pyplot as plt\n",
    "import seaborn as sns\n",
    "\n",
    "# Baixando o dataset com kagglehub\nimport kagglehub\npath = kagglehub.dataset_download('gregorut/videogamesales')\nprint('Path to dataset files:', path)\n\n# Lendo o dataset\n",
    "df = pd.read_csv('/content/vgsales.csv')\n",
    "df.head()"
   ]
  },
  {
   "cell_type": "code",
   "execution_count": null,
   "metadata": {},
   "outputs": [],
   "source": [
    "# Análise descritiva\n",
    "print(f'Total de linhas e colunas: {df.shape}')\n",
    "df.info()\n",
    "df.isnull().sum()\n",
    "df.describe()"
   ]
  },
  {
   "cell_type": "code",
   "execution_count": null,
   "metadata": {},
   "outputs": [],
   "source": [
    "# Filtrando jogos Xbox\n",
    "xbox_df = df[df['Platform'].isin(['X360', 'XB', 'XOne'])]\n",
    "print(f'Total de jogos Xbox: {xbox_df.shape[0]}')\n",
    "xbox_df.head()"
   ]
  },
  {
   "cell_type": "code",
   "execution_count": null,
   "metadata": {},
   "outputs": [],
   "source": [
    "# Jogos por gênero\n",
    "plt.figure(figsize=(8,5))\n",
    "sns.countplot(data=xbox_df, x='Genre', order=xbox_df['Genre'].value_counts().index)\n",
    "plt.title('Quantidade de Jogos por Gênero (Xbox)')\n",
    "plt.xticks(rotation=45)\n",
    "plt.show()"
   ]
  },
  {
   "cell_type": "code",
   "execution_count": null,
   "metadata": {},
   "outputs": [],
   "source": [
    "# Vendas globais por gênero\n",
    "plt.figure(figsize=(8,5))\n",
    "sns.barplot(data=xbox_df, x='Genre', y='Global_Sales', estimator=sum, order=xbox_df.groupby('Genre')['Global_Sales'].sum().sort_values(ascending=False).index)\n",
    "plt.title('Vendas Globais por Gênero (Xbox)')\n",
    "plt.xticks(rotation=45)\n",
    "plt.show()"
   ]
  },
  {
   "cell_type": "code",
   "execution_count": null,
   "metadata": {},
   "outputs": [],
   "source": [
    "# Vendas ao longo dos anos\n",
    "plt.figure(figsize=(10,5))\n",
    "xbox_df.groupby('Year')['Global_Sales'].sum().plot(kind='bar')\n",
    "plt.title('Vendas Globais por Ano (Xbox)')\n",
    "plt.xlabel('Ano')\n",
    "plt.ylabel('Vendas Globais (em milhões)')\n",
    "plt.show()"
   ]
  },
  {
   "cell_type": "code",
   "execution_count": null,
   "metadata": {},
   "outputs": [],
   "source": [
    "# Vendas por região\n",
    "regions = ['NA_Sales', 'EU_Sales', 'JP_Sales', 'Other_Sales']\n",
    "xbox_df[regions].sum().plot(kind='bar', figsize=(8,5))\n",
    "plt.title('Vendas Totais por Região (Xbox)')\n",
    "plt.ylabel('Vendas (em milhões)')\n",
    "plt.show()"
   ]
  },
  {
   "cell_type": "code",
   "execution_count": null,
   "metadata": {},
   "outputs": [],
   "source": [
    "# Tratamento de valores nulos\n",
    "xbox_df.isnull().sum()\n",
    "xbox_df = xbox_df.dropna(subset=['Year'])"
   ]
  },
  {
   "cell_type": "code",
   "execution_count": null,
   "metadata": {},
   "outputs": [],
   "source": [
    "# Conversão de tipos\n",
    "xbox_df['Year'] = xbox_df['Year'].astype(int)\n",
    "xbox_df.dtypes"
   ]
  },
  {
   "cell_type": "code",
   "execution_count": null,
   "metadata": {},
   "outputs": [],
   "source": [
    "# Normalização\n",
    "from sklearn.preprocessing import MinMaxScaler\n",
    "scaler = MinMaxScaler()\n",
    "xbox_df[['Global_Sales_Normalized']] = scaler.fit_transform(xbox_df[['Global_Sales']])\n",
    "xbox_df.head()"
   ]
  },
  {
   "cell_type": "markdown",
   "metadata": {},
   "source": [
    "## Conclusão\n",
    "A análise revelou que os gêneros Shooter e Sports são os mais populares em vendas no Xbox. A maior parte das vendas ocorre na América do Norte e o pico de vendas foi entre 2007 e 2011."
   ]
  },
  {
   "cell_type": "markdown",
   "metadata": {},
   "source": [
    "## Checklist Respondido:\n",
    "- Definição do problema: Analisar vendas de jogos Xbox\n",
    "- Tipo de problema: Não supervisionado (Exploratória)\n",
    "- Hipóteses: Gêneros populares vendem mais, maior venda na América do Norte\n",
    "- Restrições: Foco Xbox\n",
    "- Atributos: Nome, Plataforma, Ano, Gênero, Publisher, Vendas regionais, Vendas globais\n",
    "- Quantidade de atributos/instâncias: Verificado com df.shape\n",
    "- Tipos de dados: Numéricos e categóricos\n",
    "- Valores faltantes: Tratados\n",
    "- Estatísticas descritivas: Incluídas\n",
    "- Distribuição de atributos: Analisada\n",
    "- Balanceamento: Não aplicável\n",
    "- Transformações: Conversão de tipos, remoção de nulos, normalização."
   ]
  }
 ],
 "metadata": {
  "kernelspec": {
   "display_name": "Python 3",
   "language": "python",
   "name": "python3"
  },
  "language_info": {
   "name": "python",
   "version": "3.x"
  }
 },
 "nbformat": 4,
 "nbformat_minor": 0
}
